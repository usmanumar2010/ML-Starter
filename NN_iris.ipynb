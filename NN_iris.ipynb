{
 "cells": [
  {
   "cell_type": "markdown",
   "metadata": {},
   "source": [
    "https://github.com/navjindervirdee/neural-networks/blob/master/Neural%20Network/NeuralNetwork.ipynb"
   ]
  },
  {
   "cell_type": "code",
   "execution_count": 1,
   "metadata": {},
   "outputs": [],
   "source": [
    "from sklearn import datasets     #for dataset\n",
    "import numpy as np               #for maths\n",
    "import matplotlib.pyplot as plt  #for plotting"
   ]
  },
  {
   "cell_type": "code",
   "execution_count": 2,
   "metadata": {},
   "outputs": [
    {
     "name": "stdout",
     "output_type": "stream",
     "text": [
      "Data Shape   = (150, 4)\n",
      "Target Shape = (150, 1)\n",
      "Classes : [0 1 2]\n",
      "Sample data : [5.9 3.2 4.8 1.8] , Target = [1]\n"
     ]
    }
   ],
   "source": [
    "iris = datasets.load_iris()      #load the dataset\n",
    "data = iris.data                 #get features  \n",
    "target = iris.target             #get labels\n",
    "\n",
    "shape = data.shape               #shape of data\n",
    "\n",
    "#convert into numpy array\n",
    "data = np.array(data).reshape(shape[0],shape[1])\n",
    "target = np.array(target).reshape(shape[0],1)\n",
    "\n",
    "#print shape\n",
    "print(\"Data Shape   = {}\".format(data.shape))\n",
    "print(\"Target Shape = {}\".format(target.shape))\n",
    "print('Classes : {}'.format(np.unique(target)))\n",
    "print('Sample data : {} , Target = {}'.format(data[70],target[70]))"
   ]
  },
  {
   "cell_type": "code",
   "execution_count": 4,
   "metadata": {},
   "outputs": [],
   "source": [
    "#HYPERPARAMETERS\n",
    "\n",
    "#num of target labels\n",
    "num_classes = len(np.unique(target))\n",
    "\n",
    "#define layer_neurons\n",
    "input_units  = 4   #neurons in input layer\n",
    "hidden_units = 8   #neurons in hidden layer\n",
    "output_units = 3   #neurons in output layer\n",
    "\n",
    "#define hyper-parameters\n",
    "learning_rate = 0.03\n",
    "\n",
    "#regularization parameter\n",
    "beta = 0.00001\n",
    "\n",
    "#num of iterations\n",
    "iters = 100"
   ]
  },
  {
   "cell_type": "code",
   "execution_count": 5,
   "metadata": {},
   "outputs": [],
   "source": [
    "#PARAMETERS\n",
    "\n",
    "#initialize parameters i.e weights\n",
    "def initialize_parameters():\n",
    "    #initial values should have zero mean and 0.1 standard deviation\n",
    "    mean = 0        #mean of parameters \n",
    "    std = 0.03      #standard deviation\n",
    "    \n",
    "    layer1_weights = np.random.normal(mean,std,(input_units,hidden_units))          \n",
    "    layer1_biases = np.ones((hidden_units,1))                                       \n",
    "    layer2_weights = np.random.normal(mean,std,(hidden_units,output_units))\n",
    "    layer2_biases = np.ones((output_units,1))\n",
    "    \n",
    "    parameters = dict()\n",
    "    parameters['layer1_weights'] = layer1_weights\n",
    "    parameters['layer1_biases'] = layer1_biases\n",
    "    parameters['layer2_weights'] = layer2_weights\n",
    "    parameters['layer2_biases'] = layer2_biases\n",
    "    \n",
    "    return parameters"
   ]
  },
  {
   "cell_type": "code",
   "execution_count": 6,
   "metadata": {},
   "outputs": [],
   "source": [
    "#activation function\n",
    "def sigmoid(X):\n",
    "    return 1/(1+np.exp((-1)*X))\n",
    "\n",
    "#softmax function for output\n",
    "def softmax(X):\n",
    "    exp_X = np.exp(X)\n",
    "    exp_X_sum = np.sum(exp_X,axis=1).reshape(-1,1)\n",
    "    exp_X = (exp_X/exp_X_sum)\n",
    "    return exp_X"
   ]
  },
  {
   "cell_type": "code",
   "execution_count": 7,
   "metadata": {},
   "outputs": [],
   "source": [
    "#forward propagation\n",
    "def forward_propagation(train_dataset,parameters):\n",
    "    cache = dict()            #to store the intermediate values for backward propagation\n",
    "    m = len(train_dataset)    #number of training examples\n",
    "    \n",
    "    #get the parameters\n",
    "    layer1_weights = parameters['layer1_weights']\n",
    "    layer1_biases = parameters['layer1_biases']\n",
    "    layer2_weights = parameters['layer2_weights']\n",
    "    layer2_biases = parameters['layer2_biases']\n",
    "    \n",
    "    #forward prop\n",
    "    logits = np.matmul(train_dataset,layer1_weights) + layer1_biases.T\n",
    "    activation1 = np.array(sigmoid(logits)).reshape(m,hidden_units)\n",
    "    activation2 = np.array(np.matmul(activation1,layer2_weights) + layer2_biases.T).reshape(m,output_units)\n",
    "    output = np.array(softmax(activation2)).reshape(m,num_classes)\n",
    "    \n",
    "    #fill in the cache\n",
    "    cache['output'] = output\n",
    "    cache['activation1'] = activation1\n",
    "    \n",
    "    return cache,output\n",
    "\n",
    "#backward propagation\n",
    "def backward_propagation(train_dataset,train_labels,parameters,cache):\n",
    "    derivatives = dict()         #to store the derivatives\n",
    "    \n",
    "    #get stuff from cache\n",
    "    output = cache['output']\n",
    "    activation1 = cache['activation1']\n",
    "    \n",
    "    #get parameters\n",
    "    layer1_weights = parameters['layer1_weights']\n",
    "    layer2_weights = parameters['layer2_weights']\n",
    "    \n",
    "    #calculate errors\n",
    "    error_output = output - train_labels\n",
    "    error_activation1 = np.matmul(error_output,layer2_weights.T)\n",
    "    error_activation1 = np.multiply(error_activation1,activation1)\n",
    "    error_activation1 = np.multiply(error_activation1,1-activation1)\n",
    "    \n",
    "    \n",
    "    #calculate partial derivatives\n",
    "    partial_derivatives2 = np.matmul(activation1.T,error_output)/len(train_dataset)\n",
    "    partial_derivatives1 = np.matmul(train_dataset.T,error_activation1)/len(train_dataset)\n",
    "    \n",
    "    #store the derivatives\n",
    "    derivatives['partial_derivatives1'] = partial_derivatives1\n",
    "    derivatives['partial_derivatives2'] = partial_derivatives2\n",
    "    \n",
    "    return derivatives\n",
    "\n",
    "\n",
    "#update the parameters\n",
    "def update_parameters(derivatives,parameters):\n",
    "    #get the parameters\n",
    "    layer1_weights = parameters['layer1_weights']\n",
    "    layer2_weights = parameters['layer2_weights']\n",
    "    \n",
    "    #get the derivatives\n",
    "    partial_derivatives1 = derivatives['partial_derivatives1']\n",
    "    partial_derivatives2 = derivatives['partial_derivatives2']\n",
    "    \n",
    "    #update the derivatives\n",
    "    layer1_weights -= (learning_rate*(partial_derivatives1 + beta*layer1_weights))\n",
    "    layer2_weights -= (learning_rate*(partial_derivatives2 + beta*layer2_weights))\n",
    "    \n",
    "    #update the dict\n",
    "    parameters['layer1_weights'] = layer1_weights\n",
    "    parameters['layer2_weights'] = layer2_weights\n",
    "    \n",
    "    return parameters\n",
    "    \n",
    "#calculate the loss and accuracy\n",
    "def cal_loss_accuray(train_labels,predictions,parameters):\n",
    "    #get the parameters\n",
    "    layer1_weights = parameters['layer1_weights']\n",
    "    layer2_weights = parameters['layer2_weights']\n",
    "    \n",
    "    #cal loss and accuracy\n",
    "    loss = -1*np.sum(np.multiply(np.log(predictions),train_labels) + np.multiply(np.log(1-predictions),(1-train_labels)))/len(train_labels) + np.sum(layer1_weights**2)*beta/len(train_labels) + np.sum(layer2_weights**2)*beta/len(train_labels)\n",
    "    accuracy = np.sum(np.argmax(train_labels,axis=1)==np.argmax(predictions,axis=1))\n",
    "    accuracy /= len(train_dataset)\n",
    "    \n",
    "    return loss,accuracy"
   ]
  },
  {
   "cell_type": "code",
   "execution_count": 9,
   "metadata": {},
   "outputs": [],
   "source": [
    "#Implementation of 3 layer Neural Network\n",
    "\n",
    "#training function\n",
    "def train(train_dataset,train_labels,iters=2):\n",
    "    #To store loss after every iteration.\n",
    "    J = []\n",
    "  \n",
    "    #WEIGHTS\n",
    "    global layer1_weights\n",
    "    global layer1_biases\n",
    "    global layer2_weights\n",
    "    global layer2_biases\n",
    "  \n",
    "    #initialize the parameters\n",
    "    parameters = initialize_parameters()\n",
    "    \n",
    "    layer1_weights = parameters['layer1_weights']\n",
    "    layer1_biases = parameters['layer1_biases']\n",
    "    layer2_weights = parameters['layer2_weights']\n",
    "    layer2_biases = parameters['layer2_biases']\n",
    "    \n",
    "    #to store final predictons after training\n",
    "    final_output = []\n",
    "    \n",
    "    for j in range(iters):\n",
    "        #forward propagation\n",
    "        cache,output = forward_propagation(train_dataset,parameters)\n",
    "        \n",
    "        #backward propagation\n",
    "        derivatives = backward_propagation(train_dataset,train_labels,parameters,cache)\n",
    "        \n",
    "        #calculate the loss and accuracy\n",
    "        loss,accuracy = cal_loss_accuray(train_labels,output,parameters)\n",
    "        \n",
    "        #update the parameters\n",
    "        parameters = update_parameters(derivatives,parameters)\n",
    "        \n",
    "        #append loss\n",
    "        J.append(loss)\n",
    "        \n",
    "        #update final output\n",
    "        final_output = output\n",
    "        \n",
    "        #print accuracy and loss\n",
    "        if(j%50==0):\n",
    "            print(\"Step %d\"%j)\n",
    "            print(\"Loss %f\"%loss)\n",
    "            print(\"Accuracy %f%%\"%(accuracy*100))\n",
    "    \n",
    "    return J,final_output"
   ]
  },
  {
   "cell_type": "code",
   "execution_count": 10,
   "metadata": {},
   "outputs": [],
   "source": [
    "#shuffle the dataset\n",
    "z = list(zip(data,target))\n",
    "np.random.shuffle(z)\n",
    "data,target = zip(*z)\n",
    "\n",
    "#make train_dataset and train_labels\n",
    "train_dataset = np.array(data).reshape(-1,4)\n",
    "train_labels = np.zeros([train_dataset.shape[0],num_classes])\n",
    "\n",
    "#one-hot encoding\n",
    "for i,label in enumerate(target):\n",
    "    train_labels[i,label] = 1\n",
    "\n",
    "#normalizations\n",
    "for i in range(input_units):\n",
    "    mean = train_dataset[:,i].mean()\n",
    "    std = train_dataset[:,i].std()\n",
    "    train_dataset[:,i] = (train_dataset[:,i]-mean)/std"
   ]
  },
  {
   "cell_type": "code",
   "execution_count": 11,
   "metadata": {},
   "outputs": [
    {
     "name": "stdout",
     "output_type": "stream",
     "text": [
      "Step 0\n",
      "Loss 1.910347\n",
      "Accuracy 33.333333%\n",
      "Step 50\n",
      "Loss 1.908674\n",
      "Accuracy 33.333333%\n"
     ]
    }
   ],
   "source": [
    "J,final_output = train(train_dataset,train_labels,iters=100)\n"
   ]
  },
  {
   "cell_type": "code",
   "execution_count": 12,
   "metadata": {},
   "outputs": [
    {
     "data": {
      "image/png": "[encoded data removed]",
      "text/plain": [
       "<Figure size 432x288 with 1 Axes>"
      ]
     },
     "metadata": {
      "needs_background": "light"
     },
     "output_type": "display_data"
    }
   ],
   "source": [
    "#plot loss graph\n",
    "plt.plot(list(range(1,len(J))),J[1:])\n",
    "plt.xlabel('Iterations')\n",
    "plt.ylabel('Loss')\n",
    "plt.title('Iterations VS Loss')\n",
    "plt.show()\n"
   ]
  }
 ],
 "metadata": {
  "kernelspec": {
   "display_name": "Python 3",
   "language": "python",
   "name": "python3"
  },
  "language_info": {
   "codemirror_mode": {
    "name": "ipython",
    "version": 3
   },
   "file_extension": ".py",
   "mimetype": "text/x-python",
   "name": "python",
   "nbconvert_exporter": "python",
   "pygments_lexer": "ipython3",
   "version": "3.6.10"
  }
 },
 "nbformat": 4,
 "nbformat_minor": 4
}
